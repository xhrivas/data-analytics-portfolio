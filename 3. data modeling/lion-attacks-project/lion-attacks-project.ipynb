{
 "cells": [
  {
   "cell_type": "markdown",
   "metadata": {},
   "source": [
    "# Lion Attacks\n",
    "\n",
    "Humanity has long feared the dark because of night-time predators. Nocturnal hunters, such as lions, have excellent low-light vision. In this project, I have investigated the influence of moonlight on hunting activity.\n",
    "\n",
    "Most lion attacks targeting humans occur in the evening, defined here as 6pm to 10pm, after which humans are typically indoors and asleep.\n",
    "\n",
    "The `lion-attacks-lunar-cycle.csv` file contains the number of lion attacks on humans for each day of the lunar cycle. The Moon completes a lunar cycle every 29.5 days, transitioning from a new moon to a full moon and then back to a new moon.\n"
   ]
  },
  {
   "cell_type": "code",
   "execution_count": 56,
   "metadata": {},
   "outputs": [
    {
     "data": {
      "text/html": [
       "<div>\n",
       "<style scoped>\n",
       "    .dataframe tbody tr th:only-of-type {\n",
       "        vertical-align: middle;\n",
       "    }\n",
       "\n",
       "    .dataframe tbody tr th {\n",
       "        vertical-align: top;\n",
       "    }\n",
       "\n",
       "    .dataframe thead th {\n",
       "        text-align: right;\n",
       "    }\n",
       "</style>\n",
       "<table border=\"1\" class=\"dataframe\">\n",
       "  <thead>\n",
       "    <tr style=\"text-align: right;\">\n",
       "      <th></th>\n",
       "      <th>lunar_day</th>\n",
       "      <th>evening_moonlight</th>\n",
       "      <th>attacks</th>\n",
       "    </tr>\n",
       "  </thead>\n",
       "  <tbody>\n",
       "    <tr>\n",
       "      <th>0</th>\n",
       "      <td>0</td>\n",
       "      <td>0.000</td>\n",
       "      <td>10</td>\n",
       "    </tr>\n",
       "    <tr>\n",
       "      <th>1</th>\n",
       "      <td>1</td>\n",
       "      <td>0.010</td>\n",
       "      <td>9</td>\n",
       "    </tr>\n",
       "    <tr>\n",
       "      <th>2</th>\n",
       "      <td>2</td>\n",
       "      <td>0.038</td>\n",
       "      <td>10</td>\n",
       "    </tr>\n",
       "    <tr>\n",
       "      <th>3</th>\n",
       "      <td>3</td>\n",
       "      <td>0.100</td>\n",
       "      <td>11</td>\n",
       "    </tr>\n",
       "    <tr>\n",
       "      <th>4</th>\n",
       "      <td>4</td>\n",
       "      <td>0.170</td>\n",
       "      <td>6</td>\n",
       "    </tr>\n",
       "    <tr>\n",
       "      <th>...</th>\n",
       "      <td>...</td>\n",
       "      <td>...</td>\n",
       "      <td>...</td>\n",
       "    </tr>\n",
       "    <tr>\n",
       "      <th>25</th>\n",
       "      <td>25</td>\n",
       "      <td>0.000</td>\n",
       "      <td>12</td>\n",
       "    </tr>\n",
       "    <tr>\n",
       "      <th>26</th>\n",
       "      <td>26</td>\n",
       "      <td>0.000</td>\n",
       "      <td>8</td>\n",
       "    </tr>\n",
       "    <tr>\n",
       "      <th>27</th>\n",
       "      <td>27</td>\n",
       "      <td>0.000</td>\n",
       "      <td>10</td>\n",
       "    </tr>\n",
       "    <tr>\n",
       "      <th>28</th>\n",
       "      <td>28</td>\n",
       "      <td>0.000</td>\n",
       "      <td>9</td>\n",
       "    </tr>\n",
       "    <tr>\n",
       "      <th>29</th>\n",
       "      <td>29</td>\n",
       "      <td>0.000</td>\n",
       "      <td>16</td>\n",
       "    </tr>\n",
       "  </tbody>\n",
       "</table>\n",
       "<p>30 rows × 3 columns</p>\n",
       "</div>"
      ],
      "text/plain": [
       "    lunar_day  evening_moonlight  attacks\n",
       "0           0              0.000       10\n",
       "1           1              0.010        9\n",
       "2           2              0.038       10\n",
       "3           3              0.100       11\n",
       "4           4              0.170        6\n",
       "..        ...                ...      ...\n",
       "25         25              0.000       12\n",
       "26         26              0.000        8\n",
       "27         27              0.000       10\n",
       "28         28              0.000        9\n",
       "29         29              0.000       16\n",
       "\n",
       "[30 rows x 3 columns]"
      ]
     },
     "execution_count": 56,
     "metadata": {},
     "output_type": "execute_result"
    }
   ],
   "source": [
    "import pandas as pd\n",
    "import matplotlib.pyplot as plt\n",
    "pd.set_option('display.max_rows', 10)\n",
    "df = pd.read_csv('lion-attacks-lunar-cycle.csv')\n",
    "df #display dataframe"
   ]
  },
  {
   "cell_type": "markdown",
   "metadata": {},
   "source": [
    "The variable `evening_moonlight` represents how bright the moon is during the evening hours from 6pm to 10pm. It ranges from 0 (not visible at all) to 1 (maximum brightness), which is affected by two factors:\n",
    "\n",
    "- The phase of the moon\n",
    "- The number of hours the moon is visible during the early night.\n",
    "\n",
    "For almost half the lunar month there is no evening moonlight - on those days the moon rises after 10pm.\n",
    "\n",
    "### Lion attacks vs Moonlight\n",
    "Let's graph a scatter plot between lion attacks and moonlight levels."
   ]
  },
  {
   "cell_type": "code",
   "execution_count": 57,
   "metadata": {},
   "outputs": [
    {
     "data": {
      "image/png": "[encoded data removed]",
      "text/plain": [
       "<Figure size 600x300 with 1 Axes>"
      ]
     },
     "metadata": {},
     "output_type": "display_data"
    }
   ],
   "source": [
    "plt.figure(figsize=(6, 3))\n",
    "plt.scatter(df['evening_moonlight'], df['attacks'], alpha=0.5)\n",
    "plt.xlabel('Evening Moonlight')\n",
    "plt.ylabel('Number of Lion Attacks')\n",
    "plt.show()"
   ]
  },
  {
   "cell_type": "markdown",
   "metadata": {},
   "source": [
    "The graph shows that as the moonlight levels increase, evening lion attacks decrease. This indicates a negative relationship.\n",
    "\n",
    "### Modeling the relationship\n",
    "\n",
    "Now let's fit a model to our data. A linear model fits a straight line through the data.\n",
    "\n",
    "Since Pandas does not have built-in functions for modeling, I made the following python class that utilizes the scikit-learn library."
   ]
  },
  {
   "cell_type": "code",
   "execution_count": 58,
   "metadata": {},
   "outputs": [],
   "source": [
    "import matplotlib.pyplot as plt\n",
    "from sklearn.linear_model import LinearRegression\n",
    "from sklearn.metrics import r2_score\n",
    "\n",
    "class LinearModel:\n",
    "    def __init__(self, model_name=\"\"):\n",
    "        self.model_name = model_name\n",
    "        \n",
    "    def fit(self, x, y):\n",
    "        x = pd.DataFrame(x)\n",
    "        linear_model = LinearRegression().fit(x, y)\n",
    "        y_pred = linear_model.predict(x)\n",
    "        self.slope = linear_model.coef_[0]\n",
    "        self.intercept = linear_model.intercept_\n",
    "        self.rsquared = r2_score(y, y_pred)\n",
    "        \n",
    "    def predict(self, x):\n",
    "        return self.slope * x + self.intercept\n",
    "\n",
    "    def plot_model(self, x_min, x_max, color=\"black\"):\n",
    "        y_min = self.predict(x_min)\n",
    "        y_max = self.predict(x_max)\n",
    "        plt.plot([x_min, x_max], [y_min, y_max], color=color)\n",
    "        \n",
    "    def print_model_info(self):\n",
    "        m = self.slope\n",
    "        b = self.intercept\n",
    "        rsquared = self.rsquared\n",
    "        model_name = self.model_name\n",
    "        print(f'LinearModel({model_name}):')\n",
    "        print(f'Parameters: slope = {m:.2f}, intercept = {b:.2f}')\n",
    "        print(f'Equation: y = {m:.2f}x + {b:.2f}')\n",
    "        print(f'Goodness of Fit (R²): {rsquared:.3f}')"
   ]
  },
  {
   "cell_type": "code",
   "execution_count": 59,
   "metadata": {},
   "outputs": [],
   "source": [
    "attack_model = LinearModel(\"attacks\")\n",
    "attack_model.fit(x=df['evening_moonlight'], y=df['attacks'])"
   ]
  },
  {
   "cell_type": "markdown",
   "metadata": {},
   "source": [
    "Now that I have fit the data to a linear model, the model can be plot on top of the scatter plot."
   ]
  },
  {
   "cell_type": "code",
   "execution_count": 60,
   "metadata": {},
   "outputs": [
    {
     "data": {
      "image/png": "[encoded data removed]",
      "text/plain": [
       "<Figure size 600x300 with 1 Axes>"
      ]
     },
     "metadata": {},
     "output_type": "display_data"
    }
   ],
   "source": [
    "plt.figure(figsize=(6, 3))\n",
    "plt.scatter(df['evening_moonlight'], df['attacks'], alpha=0.5)\n",
    "plt.xlabel('Evening Moonlight')\n",
    "plt.ylabel('Number of Lion Attacks')\n",
    "attack_model.plot_model(0, 1)"
   ]
  },
  {
   "cell_type": "markdown",
   "metadata": {},
   "source": [
    "The linear model creates a line through the data that minimizes the average vertical distances between each point and the line.\n",
    "\n",
    "Linear models are expressed using the equation y = mx + b, where m is the slope of the line and b is the y intercept."
   ]
  },
  {
   "cell_type": "code",
   "execution_count": 61,
   "metadata": {},
   "outputs": [
    {
     "name": "stdout",
     "output_type": "stream",
     "text": [
      "LinearModel(attacks):\n",
      "Parameters: slope = -8.92, intercept = 11.65\n",
      "Equation: y = -8.92x + 11.65\n",
      "Goodness of Fit (R²): 0.475\n"
     ]
    }
   ],
   "source": [
    "attack_model.print_model_info()"
   ]
  },
  {
   "cell_type": "markdown",
   "metadata": {},
   "source": [
    "The slope of the linear model is negative and that is because as moon brightness increases, the number of lion attacks decreases.\n",
    "\n",
    "The goodness of fit value indicates how well a model fits the data, ranging from 0 to 1. A goodness of fit value of 0.475 suggests that the model does a moderately good job at fitting the data given the high variability.\n",
    "\n",
    "### Correlation or Causation?\n",
    "Why are there fewer attacks when the moon is bright? Does the brighter moon directly cause fewer attacks? Or maybe moonlight and attacks are both being influenced by some other factor?\n",
    "\n",
    "In data science there is an important mantra: \"correlation does not imply causation\".\n",
    "\n",
    "To strengthen a causation argument, I looked for two things:\n",
    "\n",
    "- A plausible mechanism that explains the relationship\n",
    "- Independent supporting evidence\n",
    "\n",
    "One plausible mechanism for the relationship is that moonlight also helps humans see lions at night and avoid attacks.\n",
    "\n",
    "There is already a plausible mechanism, now I will find supporting evidence using an independent dataset.\n",
    "\n",
    "### Lion belly data\n",
    "Lions can consume up to a quarter of their body weight in a single meal! To accommodate this, their stomachs swell noticeably. Since 1978, scientists in Tanzania have estimated the belly sizes of adult lions (as viewed from a safe distance!) to get a measure of how much they ate the previous night (other animals, not people!).\n",
    "\n",
    "The `lion-belly-sizes.csv` file contains belly size estimates averaged over 11,000 sightings. Belly size ranges from 0 to 1 (empty to fully swollen). The moonlight level is estimated from the lunar cycle and takes into account the phase of the moon and the number of hours the moon is visible from 6pm to 6am.\n"
   ]
  },
  {
   "cell_type": "code",
   "execution_count": 62,
   "metadata": {},
   "outputs": [
    {
     "data": {
      "text/html": [
       "<div>\n",
       "<style scoped>\n",
       "    .dataframe tbody tr th:only-of-type {\n",
       "        vertical-align: middle;\n",
       "    }\n",
       "\n",
       "    .dataframe tbody tr th {\n",
       "        vertical-align: top;\n",
       "    }\n",
       "\n",
       "    .dataframe thead th {\n",
       "        text-align: right;\n",
       "    }\n",
       "</style>\n",
       "<table border=\"1\" class=\"dataframe\">\n",
       "  <thead>\n",
       "    <tr style=\"text-align: right;\">\n",
       "      <th></th>\n",
       "      <th>lunar_day</th>\n",
       "      <th>moonlight</th>\n",
       "      <th>belly_size</th>\n",
       "    </tr>\n",
       "  </thead>\n",
       "  <tbody>\n",
       "    <tr>\n",
       "      <th>0</th>\n",
       "      <td>0</td>\n",
       "      <td>0.000</td>\n",
       "      <td>0.5005</td>\n",
       "    </tr>\n",
       "    <tr>\n",
       "      <th>1</th>\n",
       "      <td>1</td>\n",
       "      <td>0.003</td>\n",
       "      <td>0.5073</td>\n",
       "    </tr>\n",
       "    <tr>\n",
       "      <th>2</th>\n",
       "      <td>2</td>\n",
       "      <td>0.013</td>\n",
       "      <td>0.5032</td>\n",
       "    </tr>\n",
       "    <tr>\n",
       "      <th>3</th>\n",
       "      <td>3</td>\n",
       "      <td>0.033</td>\n",
       "      <td>0.4926</td>\n",
       "    </tr>\n",
       "    <tr>\n",
       "      <th>4</th>\n",
       "      <td>4</td>\n",
       "      <td>0.071</td>\n",
       "      <td>0.4897</td>\n",
       "    </tr>\n",
       "    <tr>\n",
       "      <th>...</th>\n",
       "      <td>...</td>\n",
       "      <td>...</td>\n",
       "      <td>...</td>\n",
       "    </tr>\n",
       "    <tr>\n",
       "      <th>25</th>\n",
       "      <td>25</td>\n",
       "      <td>0.040</td>\n",
       "      <td>0.5044</td>\n",
       "    </tr>\n",
       "    <tr>\n",
       "      <th>26</th>\n",
       "      <td>26</td>\n",
       "      <td>0.023</td>\n",
       "      <td>0.5115</td>\n",
       "    </tr>\n",
       "    <tr>\n",
       "      <th>27</th>\n",
       "      <td>27</td>\n",
       "      <td>0.007</td>\n",
       "      <td>0.5004</td>\n",
       "    </tr>\n",
       "    <tr>\n",
       "      <th>28</th>\n",
       "      <td>28</td>\n",
       "      <td>0.001</td>\n",
       "      <td>0.4969</td>\n",
       "    </tr>\n",
       "    <tr>\n",
       "      <th>29</th>\n",
       "      <td>29</td>\n",
       "      <td>0.000</td>\n",
       "      <td>0.4902</td>\n",
       "    </tr>\n",
       "  </tbody>\n",
       "</table>\n",
       "<p>30 rows × 3 columns</p>\n",
       "</div>"
      ],
      "text/plain": [
       "    lunar_day  moonlight  belly_size\n",
       "0           0      0.000      0.5005\n",
       "1           1      0.003      0.5073\n",
       "2           2      0.013      0.5032\n",
       "3           3      0.033      0.4926\n",
       "4           4      0.071      0.4897\n",
       "..        ...        ...         ...\n",
       "25         25      0.040      0.5044\n",
       "26         26      0.023      0.5115\n",
       "27         27      0.007      0.5004\n",
       "28         28      0.001      0.4969\n",
       "29         29      0.000      0.4902\n",
       "\n",
       "[30 rows x 3 columns]"
      ]
     },
     "execution_count": 62,
     "metadata": {},
     "output_type": "execute_result"
    }
   ],
   "source": [
    "df_belly = pd.read_csv('lion-belly-sizes.csv')\n",
    "df_belly #display the dataframe"
   ]
  },
  {
   "cell_type": "markdown",
   "metadata": {},
   "source": [
    "The average belly size is for each lunar day is around 0.5.\n",
    "\n",
    "Let's see if this data supports the causation hypothesis that moonlight decreases hunting success of lions.\n",
    "\n",
    "### Plotting belly sizes vs Moonlight\n",
    "\n",
    "First i will create a scatterplot of the belly data, with moonlight levels on the x-axis.\n"
   ]
  },
  {
   "cell_type": "code",
   "execution_count": 63,
   "metadata": {},
   "outputs": [
    {
     "data": {
      "image/png": "[encoded data removed]",
      "text/plain": [
       "<Figure size 600x300 with 1 Axes>"
      ]
     },
     "metadata": {},
     "output_type": "display_data"
    }
   ],
   "source": [
    "plt.figure(figsize=(6, 3))\n",
    "plt.scatter(df_belly['moonlight'], df_belly['belly_size'], alpha=0.5)\n",
    "plt.xlabel('Moonlight')\n",
    "plt.ylabel('Lion Belly Size')\n",
    "plt.show()"
   ]
  },
  {
   "cell_type": "markdown",
   "metadata": {},
   "source": [
    "The relationship is negative: as moonlight increases, lion belly size tends to decrease.\n",
    "\n",
    "Now let's fit a linear model to the data and plot it on top of our scatter plot."
   ]
  },
  {
   "cell_type": "code",
   "execution_count": 64,
   "metadata": {},
   "outputs": [],
   "source": [
    "belly_model = LinearModel(\"belly\")\n",
    "belly_model.fit(df_belly['moonlight'], df_belly['belly_size'])"
   ]
  },
  {
   "cell_type": "markdown",
   "metadata": {},
   "source": [
    "Plotting the linear model from 0 to 1."
   ]
  },
  {
   "cell_type": "code",
   "execution_count": 65,
   "metadata": {},
   "outputs": [
    {
     "data": {
      "image/png": "[encoded data removed]",
      "text/plain": [
       "<Figure size 600x300 with 1 Axes>"
      ]
     },
     "metadata": {},
     "output_type": "display_data"
    }
   ],
   "source": [
    "plt.figure(figsize=(6, 3))\n",
    "plt.scatter(df_belly['moonlight'], df_belly['belly_size'], alpha=0.5)\n",
    "plt.xlabel('Moonlight')\n",
    "plt.ylabel('Lion Belly Size')\n",
    "belly_model.plot_model(0, 1)"
   ]
  },
  {
   "cell_type": "markdown",
   "metadata": {},
   "source": [
    "The fit line makes it easier to see the relationship between moonlight and lion belly size.\n",
    "\n",
    "As the moonlight levels increase, average lion belly size decreases, indicating they had less to eat. Perhaps it really is harder to sneak up on your prey when they can see you!\n",
    "\n",
    "Let's check the model equation and goodness of fit."
   ]
  },
  {
   "cell_type": "code",
   "execution_count": 66,
   "metadata": {},
   "outputs": [
    {
     "name": "stdout",
     "output_type": "stream",
     "text": [
      "LinearModel(belly):\n",
      "Parameters: slope = -0.03, intercept = 0.50\n",
      "Equation: y = -0.03x + 0.50\n",
      "Goodness of Fit (R²): 0.682\n"
     ]
    }
   ],
   "source": [
    "belly_model.print_model_info()"
   ]
  },
  {
   "cell_type": "markdown",
   "metadata": {},
   "source": [
    "The slope between moonlight and lion belly size is also negative. Compared to the lion attack goodness of fit value of 0.475, the goodness of fit here is stronger. This provides supporting evidence for the causation hypothesis.\n",
    "\n",
    "In conclusion, we have evidence from two independent data sources that moonlight levels are associated with lion hunting success. The mechanism is that prey are more likely to see and avoid lions when the moon is bright."
   ]
  }
 ],
 "metadata": {
  "kernelspec": {
   "display_name": "Python 3",
   "language": "python",
   "name": "python3"
  },
  "language_info": {
   "codemirror_mode": {
    "name": "ipython",
    "version": 3
   },
   "file_extension": ".py",
   "mimetype": "text/x-python",
   "name": "python",
   "nbconvert_exporter": "python",
   "pygments_lexer": "ipython3",
   "version": "3.9.6"
  }
 },
 "nbformat": 4,
 "nbformat_minor": 2
}
